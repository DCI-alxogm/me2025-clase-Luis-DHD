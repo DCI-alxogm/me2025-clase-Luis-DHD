{
  "nbformat": 4,
  "nbformat_minor": 0,
  "metadata": {
    "colab": {
      "provenance": [],
      "authorship_tag": "ABX9TyOMv2G0gk+tjUnDkkrsal0i",
      "include_colab_link": true
    },
    "kernelspec": {
      "name": "python3",
      "display_name": "Python 3"
    },
    "language_info": {
      "name": "python"
    }
  },
  "cells": [
    {
      "cell_type": "markdown",
      "metadata": {
        "id": "view-in-github",
        "colab_type": "text"
      },
      "source": [
        "<a href=\"https://colab.research.google.com/github/DCI-alxogm/me2025-clase-Luis-DHD/blob/main/Semana1/Ago06_3.ipynb\" target=\"_parent\"><img src=\"https://colab.research.google.com/assets/colab-badge.svg\" alt=\"Open In Colab\"/></a>"
      ]
    },
    {
      "cell_type": "code",
      "execution_count": 1,
      "metadata": {
        "id": "qkTBhQBpcd1M"
      },
      "outputs": [],
      "source": [
        "# tecera prueba"
      ]
    },
    {
      "cell_type": "code",
      "source": [
        "x=2\n",
        "print(\"el valor de x es\", x)\n"
      ],
      "metadata": {
        "colab": {
          "base_uri": "https://localhost:8080/"
        },
        "id": "fyk5jaGFcjX7",
        "outputId": "5f59441d-a324-4073-ab77-95f066882767"
      },
      "execution_count": 3,
      "outputs": [
        {
          "output_type": "stream",
          "name": "stdout",
          "text": [
            "el valor de x es 2\n"
          ]
        }
      ]
    },
    {
      "cell_type": "code",
      "source": [
        "y=5\n",
        "print(\"el valor de y es\", y)\n"
      ],
      "metadata": {
        "colab": {
          "base_uri": "https://localhost:8080/"
        },
        "id": "OuF1H0Gbcy9u",
        "outputId": "caad8e29-a687-4f73-b22f-da62dcaf99f0"
      },
      "execution_count": 7,
      "outputs": [
        {
          "output_type": "stream",
          "name": "stdout",
          "text": [
            "el valor de y es 5\n"
          ]
        }
      ]
    },
    {
      "cell_type": "code",
      "source": [
        "z=y-x\n",
        "print(\"el valor de z es igual a\", z)"
      ],
      "metadata": {
        "colab": {
          "base_uri": "https://localhost:8080/"
        },
        "id": "zQK7Qt9Nc6yX",
        "outputId": "1fc17c48-bd4e-406c-bf13-302ddb310fce"
      },
      "execution_count": 8,
      "outputs": [
        {
          "output_type": "stream",
          "name": "stdout",
          "text": [
            "el valor de z es igual a 3\n"
          ]
        }
      ]
    },
    {
      "cell_type": "code",
      "source": [],
      "metadata": {
        "id": "OIM_T7xedEL3"
      },
      "execution_count": null,
      "outputs": []
    }
  ]
}